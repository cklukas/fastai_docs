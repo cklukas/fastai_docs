{
 "cells": [
  {
   "cell_type": "markdown",
   "metadata": {},
   "source": [
    "# Basic core"
   ]
  },
  {
   "cell_type": "markdown",
   "metadata": {},
   "source": [
    "This module contains all the basic functions we need in other modules of the fastai library (split with [`torch_core`](/torch_core.html#torch_core) that contains the ones requiring pytorch). Its documentation can easily be skipped at a first read, unless you want to know what a given function does."
   ]
  },
  {
   "cell_type": "code",
   "execution_count": null,
   "metadata": {
    "hide_input": true
   },
   "outputs": [],
   "source": [
    "from fastai.gen_doc.nbdoc import *\n",
    "from fastai.core import * "
   ]
  },
  {
   "cell_type": "markdown",
   "metadata": {},
   "source": [
    "## Global constants"
   ]
  },
  {
   "cell_type": "markdown",
   "metadata": {},
   "source": [
    "`default_cpus = min(16, num_cpus())` <div style=\"text-align: right\"><a href=\"https://github.com/fastai/fastai/blob/master/fastai/core.py#L45\">[source]</a></div>"
   ]
  },
  {
   "cell_type": "markdown",
   "metadata": {},
   "source": [
    "## Check functions"
   ]
  },
  {
   "cell_type": "code",
   "execution_count": null,
   "metadata": {
    "hide_input": true
   },
   "outputs": [
    {
     "data": {
      "text/markdown": [
       "#### <a id=ifnone></a>`ifnone`\n",
       "> `ifnone`(`a`:`Any`, `b`:`Any`) -> `Any`\n",
       "\n",
       "\n",
       "`a` if `a` is not None, otherwise `b`. <a href=\"https://github.com/fastai/fastai/blob/master/fastai/core.py#L51\">[source]</a>"
      ],
      "text/plain": [
       "<IPython.core.display.Markdown object>"
      ]
     },
     "metadata": {},
     "output_type": "display_data"
    }
   ],
   "source": [
    "show_doc(ifnone)"
   ]
  },
  {
   "cell_type": "code",
   "execution_count": null,
   "metadata": {
    "hide_input": true
   },
   "outputs": [
    {
     "data": {
      "text/markdown": [
       "#### <a id=is_listy></a>`is_listy`\n",
       "> `is_listy`(`x`:`Any`) -> `bool`\n",
       "<a href=\"https://github.com/fastai/fastai/blob/master/fastai/core.py#L47\">[source]</a>"
      ],
      "text/plain": [
       "<IPython.core.display.Markdown object>"
      ]
     },
     "metadata": {},
     "output_type": "display_data"
    }
   ],
   "source": [
    "show_doc(is_listy)"
   ]
  },
  {
   "cell_type": "markdown",
   "metadata": {},
   "source": [
    "Check if `x` is a `Collection`."
   ]
  },
  {
   "cell_type": "code",
   "execution_count": null,
   "metadata": {
    "hide_input": true
   },
   "outputs": [
    {
     "data": {
      "text/markdown": [
       "#### <a id=is_tuple></a>`is_tuple`\n",
       "> `is_tuple`(`x`:`Any`) -> `bool`\n",
       "<a href=\"https://github.com/fastai/fastai/blob/master/fastai/core.py#L48\">[source]</a>"
      ],
      "text/plain": [
       "<IPython.core.display.Markdown object>"
      ]
     },
     "metadata": {},
     "output_type": "display_data"
    }
   ],
   "source": [
    "show_doc(is_tuple)"
   ]
  },
  {
   "cell_type": "markdown",
   "metadata": {},
   "source": [
    "Check if `x` is a `tuple`."
   ]
  },
  {
   "cell_type": "markdown",
   "metadata": {},
   "source": [
    "## Collection related functions"
   ]
  },
  {
   "cell_type": "code",
   "execution_count": null,
   "metadata": {
    "hide_input": true
   },
   "outputs": [
    {
     "data": {
      "text/markdown": [
       "#### <a id=arrays_split></a>`arrays_split`\n",
       "> `arrays_split`(`mask`:`ndarray`, `arrs`:`NPArrayableList`) -> `SplitArrayList`\n",
       "\n",
       "\n",
       "Given `arrs` is [a,b,...] and `mask`index - return[(a[mask],a[~mask]),(b[mask],b[~mask]),...]. <a href=\"https://github.com/fastai/fastai/blob/master/fastai/core.py#L65\">[source]</a>"
      ],
      "text/plain": [
       "<IPython.core.display.Markdown object>"
      ]
     },
     "metadata": {},
     "output_type": "display_data"
    }
   ],
   "source": [
    "show_doc(arrays_split)"
   ]
  },
  {
   "cell_type": "code",
   "execution_count": null,
   "metadata": {
    "hide_input": true
   },
   "outputs": [
    {
     "data": {
      "text/markdown": [
       "#### <a id=extract_kwargs></a>`extract_kwargs`\n",
       "> `extract_kwargs`(`names`:`StrList`, `kwargs`:`KWArgs`)\n",
       "\n",
       "\n",
       "Extracs the keys in `names` from the `kwargs`. <a href=\"https://github.com/fastai/fastai/blob/master/fastai/core.py#L96\">[source]</a>"
      ],
      "text/plain": [
       "<IPython.core.display.Markdown object>"
      ]
     },
     "metadata": {},
     "output_type": "display_data"
    }
   ],
   "source": [
    "show_doc(extract_kwargs)"
   ]
  },
  {
   "cell_type": "code",
   "execution_count": null,
   "metadata": {
    "hide_input": true
   },
   "outputs": [
    {
     "data": {
      "text/markdown": [
       "#### <a id=get_chunk_length></a>`get_chunk_length`\n",
       "> `get_chunk_length`(`csv_name`:`PathOrStr`, `chunksize`:`int`) -> `int`\n",
       "<a href=\"https://github.com/fastai/fastai/blob/master/fastai/core.py#L113\">[source]</a>"
      ],
      "text/plain": [
       "<IPython.core.display.Markdown object>"
      ]
     },
     "metadata": {},
     "output_type": "display_data"
    }
   ],
   "source": [
    "show_doc(get_chunk_length, doc_string=False)"
   ]
  },
  {
   "cell_type": "markdown",
   "metadata": {},
   "source": [
    "Return the number of chunks we will have when opening the `DataFrame` in `csv_name` with `chunksize`."
   ]
  },
  {
   "cell_type": "code",
   "execution_count": null,
   "metadata": {
    "hide_input": true
   },
   "outputs": [
    {
     "data": {
      "text/markdown": [
       "#### <a id=get_total_length></a>`get_total_length`\n",
       "> `get_total_length`(`csv_name`:`PathOrStr`, `chunksize`:`int`) -> `int`\n",
       "<a href=\"https://github.com/fastai/fastai/blob/master/fastai/core.py#L120\">[source]</a>"
      ],
      "text/plain": [
       "<IPython.core.display.Markdown object>"
      ]
     },
     "metadata": {},
     "output_type": "display_data"
    }
   ],
   "source": [
    "show_doc(get_total_length, doc_string=False)"
   ]
  },
  {
   "cell_type": "markdown",
   "metadata": {},
   "source": [
    "Return the total length we will have when opening the `DataFrame` in `csv_name` with `chunksize`."
   ]
  },
  {
   "cell_type": "code",
   "execution_count": null,
   "metadata": {
    "hide_input": true
   },
   "outputs": [
    {
     "data": {
      "text/markdown": [
       "#### <a id=idx_dict></a>`idx_dict`\n",
       "> `idx_dict`(`a`)\n",
       "<a href=\"https://github.com/fastai/fastai/blob/master/fastai/core.py#L56\">[source]</a>"
      ],
      "text/plain": [
       "<IPython.core.display.Markdown object>"
      ]
     },
     "metadata": {},
     "output_type": "display_data"
    }
   ],
   "source": [
    "show_doc(idx_dict)"
   ]
  },
  {
   "cell_type": "markdown",
   "metadata": {},
   "source": [
    "Create a dictionary value to index from `a`."
   ]
  },
  {
   "cell_type": "code",
   "execution_count": null,
   "metadata": {},
   "outputs": [
    {
     "data": {
      "text/plain": [
       "{'a': 0, 'b': 1, 'c': 2}"
      ]
     },
     "execution_count": null,
     "metadata": {},
     "output_type": "execute_result"
    }
   ],
   "source": [
    "idx_dict(['a','b','c'])"
   ]
  },
  {
   "cell_type": "code",
   "execution_count": null,
   "metadata": {
    "hide_input": true
   },
   "outputs": [
    {
     "data": {
      "text/markdown": [
       "#### <a id=listify></a>`listify`\n",
       "> `listify`(`p`:`OptListOrItem`=`None`, `q`:`OptListOrItem`=`None`)\n",
       "\n",
       "\n",
       "Make `p` same length as `q` <a href=\"https://github.com/fastai/fastai/blob/master/fastai/core.py#L75\">[source]</a>"
      ],
      "text/plain": [
       "<IPython.core.display.Markdown object>"
      ]
     },
     "metadata": {},
     "output_type": "display_data"
    }
   ],
   "source": [
    "show_doc(listify)"
   ]
  },
  {
   "cell_type": "code",
   "execution_count": null,
   "metadata": {
    "hide_input": true
   },
   "outputs": [
    {
     "data": {
      "text/markdown": [
       "#### <a id=random_split></a>`random_split`\n",
       "> `random_split`(`valid_pct`:`float`, `arrs`:`NPArrayableList`) -> `SplitArrayList`\n",
       "\n",
       "\n",
       "Randomly split `arrs` with `valid_pct` ratio. good for creating validation set. <a href=\"https://github.com/fastai/fastai/blob/master/fastai/core.py#L70\">[source]</a>"
      ],
      "text/plain": [
       "<IPython.core.display.Markdown object>"
      ]
     },
     "metadata": {},
     "output_type": "display_data"
    }
   ],
   "source": [
    "show_doc(random_split)"
   ]
  },
  {
   "cell_type": "code",
   "execution_count": null,
   "metadata": {
    "hide_input": true
   },
   "outputs": [
    {
     "data": {
      "text/markdown": [
       "#### <a id=series2cat></a>`series2cat`\n",
       "> `series2cat`(`df`:`DataFrame`, `col_names`)\n",
       "\n",
       "\n",
       "Categorifies the columns `col_names` in `df`. <a href=\"https://github.com/fastai/fastai/blob/master/fastai/core.py#L134\">[source]</a>"
      ],
      "text/plain": [
       "<IPython.core.display.Markdown object>"
      ]
     },
     "metadata": {},
     "output_type": "display_data"
    }
   ],
   "source": [
    "show_doc(series2cat)"
   ]
  },
  {
   "cell_type": "code",
   "execution_count": null,
   "metadata": {
    "hide_input": true
   },
   "outputs": [
    {
     "data": {
      "text/markdown": [
       "#### <a id=uniqueify></a>`uniqueify`\n",
       "> `uniqueify`(`x`:`Series`) -> `List`\\[`Any`\\]\n",
       "<a href=\"https://github.com/fastai/fastai/blob/master/fastai/core.py#L55\">[source]</a>"
      ],
      "text/plain": [
       "<IPython.core.display.Markdown object>"
      ]
     },
     "metadata": {},
     "output_type": "display_data"
    }
   ],
   "source": [
    "show_doc(uniqueify)"
   ]
  },
  {
   "cell_type": "markdown",
   "metadata": {},
   "source": [
    "Return the unique elements in `x`."
   ]
  },
  {
   "cell_type": "markdown",
   "metadata": {},
   "source": [
    "## Files management and downloads"
   ]
  },
  {
   "cell_type": "code",
   "execution_count": null,
   "metadata": {
    "hide_input": true
   },
   "outputs": [
    {
     "data": {
      "text/markdown": [
       "#### <a id=download_url></a>`download_url`\n",
       "> `download_url`(`url`:`str`, `dest`:`str`, `overwrite`:`bool`=`False`)\n",
       "\n",
       "\n",
       "Download `url` to `dest` unless is exists and not `overwrite`. <a href=\"https://github.com/fastai/fastai/blob/master/fastai/core.py#L147\">[source]</a>"
      ],
      "text/plain": [
       "<IPython.core.display.Markdown object>"
      ]
     },
     "metadata": {},
     "output_type": "display_data"
    }
   ],
   "source": [
    "show_doc(download_url)"
   ]
  },
  {
   "cell_type": "code",
   "execution_count": null,
   "metadata": {
    "hide_input": true
   },
   "outputs": [
    {
     "data": {
      "text/markdown": [
       "#### <a id=find_classes></a>`find_classes`\n",
       "> `find_classes`(`folder`:`Path`) -> `FilePathList`\n",
       "\n",
       "\n",
       "List of label subdirectories in imagenet-style `folder`. <a href=\"https://github.com/fastai/fastai/blob/master/fastai/core.py#L58\">[source]</a>"
      ],
      "text/plain": [
       "<IPython.core.display.Markdown object>"
      ]
     },
     "metadata": {},
     "output_type": "display_data"
    }
   ],
   "source": [
    "show_doc(find_classes)"
   ]
  },
  {
   "cell_type": "code",
   "execution_count": null,
   "metadata": {
    "hide_input": true
   },
   "outputs": [
    {
     "data": {
      "text/markdown": [
       "#### <a id=maybe_copy></a>`maybe_copy`\n",
       "> `maybe_copy`(`old_fnames`:`Collection`\\[`PathOrStr`\\], `new_fnames`:`Collection`\\[`PathOrStr`\\])\n",
       "\n",
       "\n",
       "Copy the `old_fnames` to `new_fnames` location if `new_fnames` don't exist or are less recent. <a href=\"https://github.com/fastai/fastai/blob/master/fastai/core.py#L127\">[source]</a>"
      ],
      "text/plain": [
       "<IPython.core.display.Markdown object>"
      ]
     },
     "metadata": {},
     "output_type": "display_data"
    }
   ],
   "source": [
    "show_doc(maybe_copy)"
   ]
  },
  {
   "cell_type": "markdown",
   "metadata": {},
   "source": [
    "## Others"
   ]
  },
  {
   "cell_type": "code",
   "execution_count": null,
   "metadata": {
    "hide_input": true
   },
   "outputs": [
    {
     "data": {
      "text/markdown": [
       "### <a id=ItemBase></a>`class` `ItemBase`\n",
       "> `ItemBase`()\n",
       "\n",
       "\n",
       "All transformable dataset items use this type. <a href=\"https://github.com/fastai/fastai/blob/master/fastai/core.py#L138\">[source]</a>"
      ],
      "text/plain": [
       "<IPython.core.display.Markdown object>"
      ]
     },
     "metadata": {},
     "output_type": "display_data"
    }
   ],
   "source": [
    "show_doc(ItemBase, title_level=3)"
   ]
  },
  {
   "cell_type": "code",
   "execution_count": null,
   "metadata": {
    "hide_input": true
   },
   "outputs": [
    {
     "data": {
      "text/markdown": [
       "#### <a id=camel2snake></a>`camel2snake`\n",
       "> `camel2snake`(`name`:`str`) -> `str`\n",
       "<a href=\"https://github.com/fastai/fastai/blob/master/fastai/core.py#L86\">[source]</a>"
      ],
      "text/plain": [
       "<IPython.core.display.Markdown object>"
      ]
     },
     "metadata": {},
     "output_type": "display_data"
    }
   ],
   "source": [
    "show_doc(camel2snake)"
   ]
  },
  {
   "cell_type": "markdown",
   "metadata": {},
   "source": [
    "Format `name` by removing capital letters from a class-style name and separates the subwords with underscores."
   ]
  },
  {
   "cell_type": "code",
   "execution_count": null,
   "metadata": {},
   "outputs": [
    {
     "data": {
      "text/plain": [
       "'device_data_loader'"
      ]
     },
     "execution_count": null,
     "metadata": {},
     "output_type": "execute_result"
    }
   ],
   "source": [
    "camel2snake('DeviceDataLoader')"
   ]
  },
  {
   "cell_type": "code",
   "execution_count": null,
   "metadata": {
    "hide_input": true
   },
   "outputs": [
    {
     "data": {
      "text/markdown": [
       "#### <a id=even_mults></a>`even_mults`\n",
       "> `even_mults`(`start`:`float`, `stop`:`float`, `n`:`int`) -> `ndarray`\n",
       "\n",
       "\n",
       "Build evenly stepped schedule from `start` to `stop` in `n` steps. <a href=\"https://github.com/fastai/fastai/blob/master/fastai/core.py#L90\">[source]</a>"
      ],
      "text/plain": [
       "<IPython.core.display.Markdown object>"
      ]
     },
     "metadata": {},
     "output_type": "display_data"
    }
   ],
   "source": [
    "show_doc(even_mults)"
   ]
  },
  {
   "cell_type": "code",
   "execution_count": null,
   "metadata": {
    "hide_input": true
   },
   "outputs": [
    {
     "data": {
      "text/markdown": [
       "#### <a id=noop></a>`noop`\n",
       "> `noop`(`x`)\n",
       "<a href=\"https://github.com/fastai/fastai/blob/master/fastai/core.py#L49\">[source]</a>"
      ],
      "text/plain": [
       "<IPython.core.display.Markdown object>"
      ]
     },
     "metadata": {},
     "output_type": "display_data"
    }
   ],
   "source": [
    "show_doc(noop)"
   ]
  },
  {
   "cell_type": "markdown",
   "metadata": {},
   "source": [
    "Return `x`."
   ]
  },
  {
   "cell_type": "code",
   "execution_count": null,
   "metadata": {
    "hide_input": true
   },
   "outputs": [
    {
     "data": {
      "text/markdown": [
       "#### <a id=num_cpus></a>`num_cpus`\n",
       "> `num_cpus`() -> `int`\n",
       "\n",
       "\n",
       "Get number of cpus <a href=\"https://github.com/fastai/fastai/blob/master/fastai/core.py#L40\">[source]</a>"
      ],
      "text/plain": [
       "<IPython.core.display.Markdown object>"
      ]
     },
     "metadata": {},
     "output_type": "display_data"
    }
   ],
   "source": [
    "show_doc(num_cpus)"
   ]
  },
  {
   "cell_type": "code",
   "execution_count": null,
   "metadata": {
    "hide_input": true
   },
   "outputs": [
    {
     "data": {
      "text/markdown": [
       "#### <a id=partition></a>`partition`\n",
       "> `partition`(`a`:`Collection`\\[`T_co`\\], `sz`:`int`) -> `List`\\[`Collection`\\[`T_co`\\]\\]\n",
       "\n",
       "\n",
       "Split iterables `a` in equal parts of size `sz` <a href=\"https://github.com/fastai/fastai/blob/master/fastai/core.py#L105\">[source]</a>"
      ],
      "text/plain": [
       "<IPython.core.display.Markdown object>"
      ]
     },
     "metadata": {},
     "output_type": "display_data"
    }
   ],
   "source": [
    "show_doc(partition)"
   ]
  },
  {
   "cell_type": "code",
   "execution_count": null,
   "metadata": {
    "hide_input": true
   },
   "outputs": [
    {
     "data": {
      "text/markdown": [
       "#### <a id=partition_by_cores></a>`partition_by_cores`\n",
       "> `partition_by_cores`(`a`:`Collection`\\[`T_co`\\], `n_cpus`:`int`) -> `List`\\[`Collection`\\[`T_co`\\]\\]\n",
       "\n",
       "\n",
       "Split data in `a` equally among `n_cpus` cores <a href=\"https://github.com/fastai/fastai/blob/master/fastai/core.py#L109\">[source]</a>"
      ],
      "text/plain": [
       "<IPython.core.display.Markdown object>"
      ]
     },
     "metadata": {},
     "output_type": "display_data"
    }
   ],
   "source": [
    "show_doc(partition_by_cores)"
   ]
  }
 ],
 "metadata": {
  "jekyll": {
   "summary": "Basic helper functions for the fastai library",
   "title": "core"
  },
  "kernelspec": {
   "display_name": "Python 3",
   "language": "python",
   "name": "python3"
  }
 },
 "nbformat": 4,
 "nbformat_minor": 2
}
