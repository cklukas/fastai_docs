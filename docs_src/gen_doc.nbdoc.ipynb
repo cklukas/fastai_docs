{
 "cells": [
  {
   "cell_type": "markdown",
   "metadata": {},
   "source": [
    "# Documentation notebook functions"
   ]
  },
  {
   "cell_type": "code",
   "execution_count": null,
   "metadata": {
    "hide_input": true
   },
   "outputs": [],
   "source": [
    "from fastai.gen_doc.nbdoc import *"
   ]
  },
  {
   "cell_type": "markdown",
   "metadata": {},
   "source": [
    "[`nbdoc`](/gen_doc.nbdoc.html#gen_doc.nbdoc) contains the functions for documentation notebooks. The most important is [`show_doc`](/gen_doc.nbdoc.html#show_doc):"
   ]
  },
  {
   "cell_type": "markdown",
   "metadata": {},
   "source": [
    "## Show the documentation of a function"
   ]
  },
  {
   "cell_type": "code",
   "execution_count": null,
   "metadata": {
    "hide_input": true
   },
   "outputs": [
    {
     "data": {
      "text/markdown": [
       "#### <a id=show_doc></a>`show_doc`\n",
       "> `show_doc`(`elt`, `doc_string`:`bool`=`True`, `full_name`:`str`=`None`, `arg_comments`:`dict`=`None`, `title_level`=`None`, `alt_doc_string`:`str`=`''`, `ignore_warn`:`bool`=`False`, `markdown`=`True`)\n",
       "<a href=\"https://github.com/fastai/fastai/blob/master/fastai/gen_doc/nbdoc.py#L90\">[source]</a>"
      ],
      "text/plain": [
       "<IPython.core.display.Markdown object>"
      ]
     },
     "metadata": {},
     "output_type": "display_data"
    }
   ],
   "source": [
    "show_doc(show_doc, doc_string=False)"
   ]
  },
  {
   "cell_type": "markdown",
   "metadata": {},
   "source": [
    "Show the documentation of an `elt` (function, class or enum). `doc_string` decices if we show the doc string of the element or not, `full_name` will override the name shown, `arg_comments` is a dictionary that will then show list the arguments with comments. `title_level` is the level of the corresponding cell in the TOC, `alt_doc_string` is a text that can replace the `doc_string`. `ignore_warn` will ignore warnings if you pass arguments in `arg_comments` that don't appear to belong to this function and `markdown` decides if the return is a Markdown cell or plain text.\n",
    "\n",
    "Plenty of examples of uses of this cell can been seen through the documentation, and you will want to *hide input* those cells for a clean final result."
   ]
  },
  {
   "cell_type": "markdown",
   "metadata": {},
   "source": [
    "## Convenience functions"
   ]
  },
  {
   "cell_type": "code",
   "execution_count": null,
   "metadata": {
    "hide_input": true
   },
   "outputs": [
    {
     "data": {
      "text/markdown": [
       "#### <a id=get_source_link></a>`get_source_link`\n",
       "> `get_source_link`(`mod`, `lineno`) -> `str`\n",
       "\n",
       "\n",
       "Returns link to `lineno` in source code of `mod`. <a href=\"https://github.com/fastai/fastai/blob/master/fastai/gen_doc/nbdoc.py#L300\">[source]</a>"
      ],
      "text/plain": [
       "<IPython.core.display.Markdown object>"
      ]
     },
     "metadata": {},
     "output_type": "display_data"
    }
   ],
   "source": [
    "show_doc(get_source_link)"
   ]
  },
  {
   "cell_type": "code",
   "execution_count": null,
   "metadata": {
    "hide_input": true
   },
   "outputs": [
    {
     "data": {
      "text/markdown": [
       "#### <a id=show_video></a>`show_video`\n",
       "> `show_video`(`url`)\n",
       "\n",
       "\n",
       "Display video in `url`. <a href=\"https://github.com/fastai/fastai/blob/master/fastai/gen_doc/nbdoc.py#L256\">[source]</a>"
      ],
      "text/plain": [
       "<IPython.core.display.Markdown object>"
      ]
     },
     "metadata": {},
     "output_type": "display_data"
    }
   ],
   "source": [
    "show_doc(show_video)"
   ]
  },
  {
   "cell_type": "code",
   "execution_count": null,
   "metadata": {
    "hide_input": true
   },
   "outputs": [
    {
     "data": {
      "text/markdown": [
       "#### <a id=show_video_from_youtube></a>`show_video_from_youtube`\n",
       "> `show_video_from_youtube`(`code`, `start`=`0`)\n",
       "\n",
       "\n",
       "Display video from Youtube with a `code` and a `start` time. <a href=\"https://github.com/fastai/fastai/blob/master/fastai/gen_doc/nbdoc.py#L261\">[source]</a>"
      ],
      "text/plain": [
       "<IPython.core.display.Markdown object>"
      ]
     },
     "metadata": {},
     "output_type": "display_data"
    }
   ],
   "source": [
    "show_doc(show_video_from_youtube)"
   ]
  },
  {
   "cell_type": "markdown",
   "metadata": {},
   "source": [
    "## Functions for internal fastai library use"
   ]
  },
  {
   "cell_type": "code",
   "execution_count": null,
   "metadata": {
    "hide_input": true
   },
   "outputs": [
    {
     "data": {
      "text/markdown": [
       "#### <a id=get_exports></a>`get_exports`\n",
       "> `get_exports`(`mod`)\n",
       "<a href=\"https://github.com/fastai/fastai/blob/master/fastai/gen_doc/nbdoc.py#L187\">[source]</a>"
      ],
      "text/plain": [
       "<IPython.core.display.Markdown object>"
      ]
     },
     "metadata": {},
     "output_type": "display_data"
    }
   ],
   "source": [
    "show_doc(get_exports)"
   ]
  },
  {
   "cell_type": "markdown",
   "metadata": {},
   "source": [
    "Get the exports of `mod`."
   ]
  },
  {
   "cell_type": "code",
   "execution_count": null,
   "metadata": {
    "hide_input": true
   },
   "outputs": [
    {
     "data": {
      "text/markdown": [
       "#### <a id=get_fn_link></a>`get_fn_link`\n",
       "> `get_fn_link`(`ft`) -> `str`\n",
       "\n",
       "\n",
       "Return function link to notebook documentation of `ft`. <a href=\"https://github.com/fastai/fastai/blob/master/fastai/gen_doc/nbdoc.py#L276\">[source]</a>"
      ],
      "text/plain": [
       "<IPython.core.display.Markdown object>"
      ]
     },
     "metadata": {},
     "output_type": "display_data"
    }
   ],
   "source": [
    "show_doc(get_fn_link)"
   ]
  },
  {
   "cell_type": "code",
   "execution_count": null,
   "metadata": {
    "hide_input": true
   },
   "outputs": [
    {
     "data": {
      "text/markdown": [
       "#### <a id=get_ft_names></a>`get_ft_names`\n",
       "> `get_ft_names`(`mod`, `include_inner`=`False`) -> `List`\\[`str`\\]\n",
       "\n",
       "\n",
       "Return all the functions of module `mod`. <a href=\"https://github.com/fastai/fastai/blob/master/fastai/gen_doc/nbdoc.py#L192\">[source]</a>"
      ],
      "text/plain": [
       "<IPython.core.display.Markdown object>"
      ]
     },
     "metadata": {},
     "output_type": "display_data"
    }
   ],
   "source": [
    "show_doc(get_ft_names)"
   ]
  },
  {
   "cell_type": "code",
   "execution_count": null,
   "metadata": {
    "hide_input": true
   },
   "outputs": [
    {
     "data": {
      "text/markdown": [
       "#### <a id=is_enum></a>`is_enum`\n",
       "> `is_enum`()\n",
       "<a href=\"https://github.com/fastai/fastai/blob/master/fastai/gen_doc/nbdoc.py#L24\">[source]</a>"
      ],
      "text/plain": [
       "<IPython.core.display.Markdown object>"
      ]
     },
     "metadata": {},
     "output_type": "display_data"
    }
   ],
   "source": [
    "show_doc(is_enum)"
   ]
  },
  {
   "cell_type": "markdown",
   "metadata": {},
   "source": [
    "Check if something is an enumerator."
   ]
  },
  {
   "cell_type": "code",
   "execution_count": null,
   "metadata": {
    "hide_input": true
   },
   "outputs": [
    {
     "data": {
      "text/markdown": [
       "#### <a id=import_mod></a>`import_mod`\n",
       "> `import_mod`(`mod_name`:`str`)\n",
       "\n",
       "\n",
       "Return module from `mod_name`. <a href=\"https://github.com/fastai/fastai/blob/master/fastai/gen_doc/nbdoc.py#L167\">[source]</a>"
      ],
      "text/plain": [
       "<IPython.core.display.Markdown object>"
      ]
     },
     "metadata": {},
     "output_type": "display_data"
    }
   ],
   "source": [
    "show_doc(import_mod)"
   ]
  },
  {
   "cell_type": "code",
   "execution_count": null,
   "metadata": {
    "hide_input": true
   },
   "outputs": [
    {
     "data": {
      "text/markdown": [
       "#### <a id=link_docstring></a>`link_docstring`\n",
       "> `link_docstring`(`modules`, `docstring`:`str`, `overwrite`:`bool`=`False`) -> `str`\n",
       "\n",
       "\n",
       "Search `docstring` for backticks and attempt to link those functions to respective documentation. <a href=\"https://github.com/fastai/fastai/blob/master/fastai/gen_doc/nbdoc.py#L150\">[source]</a>"
      ],
      "text/plain": [
       "<IPython.core.display.Markdown object>"
      ]
     },
     "metadata": {},
     "output_type": "display_data"
    }
   ],
   "source": [
    "show_doc(link_docstring)"
   ]
  }
 ],
 "metadata": {
  "jekyll": {
   "summary": "Helper function to build the documentation",
   "title": "gen_doc.nbdoc"
  },
  "kernelspec": {
   "display_name": "Python 3",
   "language": "python",
   "name": "python3"
  }
 },
 "nbformat": 4,
 "nbformat_minor": 2
}
