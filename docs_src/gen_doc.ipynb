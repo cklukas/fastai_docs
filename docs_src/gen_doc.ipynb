{
 "cells": [
  {
   "cell_type": "markdown",
   "metadata": {},
   "source": [
    "# How to contribute to jupyter notebooks"
   ]
  },
  {
   "cell_type": "code",
   "execution_count": null,
   "metadata": {
    "hide_input": true
   },
   "outputs": [],
   "source": [
    "from fastai.gen_doc.nbdoc import *\n",
    "from fastai.gen_doc import * "
   ]
  },
  {
   "cell_type": "markdown",
   "metadata": {},
   "source": [
    "The documentation is built from notebooks in `docs_src/`. Follow the steps below to build documentation. For more information about generating and authoring notebooks, see [<code>fastai.gen_doc.gen_notebooks</code>](http://docs.fast.ai/gen_doc.gen_notebooks.html#fastai.gen_doc.gen_notebooks)."
   ]
  },
  {
   "cell_type": "markdown",
   "metadata": {},
   "source": [
    "## Modules"
   ]
  },
  {
   "cell_type": "markdown",
   "metadata": {},
   "source": [
    "### [<code>fastai.gen_doc.gen_notebooks</code>](http://docs.fast.ai/gen_doc.gen_notebooks.html#fastai.gen_doc.gen_notebooks)"
   ]
  },
  {
   "cell_type": "markdown",
   "metadata": {},
   "source": [
    "Generate and update notebook skeletons automatically from modules. Includes an overview of the whole authoring process."
   ]
  },
  {
   "cell_type": "markdown",
   "metadata": {},
   "source": [
    "### [<code>fastai.gen_doc.convert2html</code>](http://docs.fast.ai/gen_doc.convert2html.html#fastai.gen_doc.convert2html)"
   ]
  },
  {
   "cell_type": "markdown",
   "metadata": {},
   "source": [
    "Create HTML (jekyll) docs from notebooks."
   ]
  },
  {
   "cell_type": "markdown",
   "metadata": {},
   "source": [
    "### [<code>fastai.gen_doc.nbdoc</code>](http://docs.fast.ai/gen_doc.nbdoc.html#fastai.gen_doc.nbdoc)"
   ]
  },
  {
   "cell_type": "markdown",
   "metadata": {},
   "source": [
    "Underlying documentation functions; most important is [`show_doc`](/gen_doc.nbdoc.html#show_doc)."
   ]
  },
  {
   "cell_type": "markdown",
   "metadata": {},
   "source": [
    "## Process for contributing to the docs"
   ]
  },
  {
   "cell_type": "markdown",
   "metadata": {},
   "source": [
    "If you want to help us and contribute to the docs, you just have to make modifications to the source notebooks, our scripts will then automatically convert them to HTML. There is just one script to run after cloning the fastai_docs repo, to ensure that everything works properly. The rest of this page goes more in depth about all the functionalities this module offers, but if you just want to add a sentence or correct a typo, make a PR with the notebook changed and we'll take care of the rest."
   ]
  },
  {
   "cell_type": "markdown",
   "metadata": {},
   "source": [
    "### Thing to run after git clone"
   ]
  },
  {
   "cell_type": "markdown",
   "metadata": {},
   "source": [
    "Make sure you follow this recipe:\n",
    "\n",
    "    git clone https://github.com/fastai/fastai_docs\n",
    "    cd fastai_docs\n",
    "    tools/run-after-git-clone\n",
    "\n",
    "This will take care of everything that is explained in the following two sections. We'll tell you what they do, but you need to execute just this one script.\n",
    "\n",
    "Note: windows users, not using bash emulation, will need to invoke the command as:\n",
    "\n",
    "    python tools\\run-after-git-clone\n",
    "    \n",
    "On windows as well, the simlink between the imgs folder in docs_src (where the notebooks are) and docs won't work. You will need to remove the borken link in docs_src (called imgs), execute cmd.exe as administrator, then, in the docs_src folder, execute\n",
    "\n",
    "    mklink /d imgs ..\\docs\\imgs"
   ]
  },
  {
   "cell_type": "markdown",
   "metadata": {},
   "source": [
    "#### after-git-clone #1: a mandatory notebook strip out"
   ]
  },
  {
   "cell_type": "markdown",
   "metadata": {},
   "source": [
    "Currently we only store `source` code cells under git (and a few extra fields for documentation notebooks). If you would like to commit or submit a PR, you need to confirm to that standard.\n",
    "\n",
    "This is done automatically during `diff`/`commit` git operations, but you need to configure your local repository once to activate that instrumentation.\n",
    "\n",
    "Therefore, your developing process will always start with:\n",
    "\n",
    "    tools/trust-origin-git-config\n",
    "\n",
    "The last command tells git to invoke configuration stored in `fastai/.gitconfig`, so your `git diff` and `git commit` invocations for this particular repository will now go via `tools/fastai-nbstripout` which will do all the work for you.\n",
    "\n",
    "You don't need to run it if you run:\n",
    "\n",
    "    tools/run-after-git-clone\n",
    "\n",
    "If you skip this configuration your commit/PR involving notebooks will not be accepted, since it'll carry in it many JSON bits which we don't want in the git repository. Those unwanted bits create collisions and lead to unnecessarily complicated and time wasting merge activities. So please do not skip this step.\n",
    "\n",
    "Note: we can't make this happen automatically, since git will ignore a repository-stored `.gitconfig` for security reasons, unless a user will tell git to use it (and thus trust it).\n",
    "\n",
    "If you'd like to check whether you already trusted git with using `fastai/.gitconfig` please look inside `fastai/.git/config`, which should have this entry:\n",
    "\n",
    "    [include]\n",
    "            path = ../.gitconfig\n",
    "\n",
    "or alternatively run:\n",
    "\n",
    "    tools/trust-origin-git-config -t"
   ]
  },
  {
   "cell_type": "markdown",
   "metadata": {},
   "source": [
    "#### after-git-clone #2: automatically updating doc notebooks to be trusted on git pull"
   ]
  },
  {
   "cell_type": "markdown",
   "metadata": {},
   "source": [
    "We want the doc notebooks to be already trusted when you load them in `jupyter notebook`, so this script which should be run once upon `git clone`, will install a `git` `post-merge` hook into your local check out.\n",
    "\n",
    "The installed hook will be executed by git automatically at the end of `git pull` only if it triggered an actual merge event and that the latter was successful.\n",
    "\n",
    "To trust run:\n",
    "\n",
    "    tools/trust-doc-nbs-install-hook\n",
    "\n",
    "You don't need to run it if you run:\n",
    "\n",
    "    tools/run-after-git-clone\n",
    "\n",
    "To distrust run:\n",
    "\n",
    "    rm .git/hooks/post-merge"
   ]
  },
  {
   "cell_type": "markdown",
   "metadata": {},
   "source": [
    "### Validate any notebooks you're contributing to"
   ]
  },
  {
   "cell_type": "markdown",
   "metadata": {},
   "source": [
    "If you were using a text editor to make changes, when you are done working on a notebook improvement, please, make sure to validate that notebook's format, by simply loading it in the jupyter notebook.\n",
    "\n",
    "Alternatively, you could use a CLI JSON validation tool, e.g. [jsonlint](https://jsonlint.com/):\n",
    "\n",
    "    jsonlint-php example.ipynb\n",
    "\n",
    "but it's second best, since you may have a valid JSON, but invalid notebook format, as the latter has extra requirements on which fields are valid and which are not."
   ]
  },
  {
   "cell_type": "markdown",
   "metadata": {},
   "source": [
    "## Update the doc"
   ]
  },
  {
   "cell_type": "markdown",
   "metadata": {},
   "source": [
    "To update the documentation notebooks to reflect changes in the library, you should use [`update_notebooks`](/gen_doc.gen_notebooks.html#update_notebooks) or the `sgen_notebooks` script. Only use this when you have added a new function that you want to document."
   ]
  },
  {
   "cell_type": "markdown",
   "metadata": {},
   "source": [
    "### Updating docs from within notebook:"
   ]
  },
  {
   "cell_type": "markdown",
   "metadata": {},
   "source": [
    "[<code>update_notebooks</code>](http://docs.fast.ai/gen_doc.sgen_notebooks.html#update_notebooks) can be run from the notebook. \n",
    "\n",
    "Default updates all notebooks in the fastai folder:\n",
    "```python\n",
    "update_notebooks()\n",
    "```\n",
    "\n",
    "To update specific python file only + html also:\n",
    "```python\n",
    "update_notebooks('../fastai/gen_doc/nbdoc.py', update_html=True, create_missing=True)\n",
    "```"
   ]
  },
  {
   "cell_type": "markdown",
   "metadata": {},
   "source": [
    "### Updating notebooks from script:"
   ]
  },
  {
   "cell_type": "markdown",
   "metadata": {},
   "source": [
    "[<code>update_notebooks</code>](http://docs.fast.ai/gen_doc.sgen_notebooks.html#update_notebooks) can be run as a script for convenience. \n",
    "\n",
    "Default updates all notebooks in the fastai folder:\n",
    "```bash\n",
    "python fastai/gen_doc/sgen_notebooks.py\n",
    "```\n",
    "Or from the tools folder\n",
    "```bash\n",
    "python tools/sgen_notebooks.py\n",
    "```\n",
    "\n",
    "\n",
    "To update specific python file only and html:\n",
    "```bash\n",
    "python fastai/gen_doc/sgen_notebooks.py fastai/vision/transform.py --update_html=True --create-missing=True\n",
    "```\n",
    "\n",
    "\n",
    "To link docs with no accompanying modules:\n",
    "```bash\n",
    "python tools/sgen_notebooks.py docs_src/index.ipynb --update_html=True --update_nb_links=True\n",
    "```"
   ]
  }
 ],
 "metadata": {
  "jekyll": {
   "keywords": "fastai",
   "summary": "Documentation modules overview",
   "title": "gen_doc"
  },
  "kernelspec": {
   "display_name": "Python 3",
   "language": "python",
   "name": "python3"
  }
 },
 "nbformat": 4,
 "nbformat_minor": 2
}
