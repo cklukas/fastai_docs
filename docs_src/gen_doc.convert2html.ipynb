{
 "cells": [
  {
   "cell_type": "markdown",
   "metadata": {
    "hide_input": true
   },
   "source": [
    "# Conversion notebook to HTML"
   ]
  },
  {
   "cell_type": "markdown",
   "metadata": {
    "hide_input": true
   },
   "source": [
    "This is the module to convert a jupyter notebook to an html page. It will normally render everything the way it was in the notebooks, including suppressing the input of the code cells with input cells masked, and converting the links between notebooks in links between the html pages."
   ]
  },
  {
   "cell_type": "code",
   "execution_count": null,
   "metadata": {
    "hide_input": true
   },
   "outputs": [],
   "source": [
    "from fastai.gen_doc.nbdoc import * \n",
    "from fastai.gen_doc.convert2html import * "
   ]
  },
  {
   "cell_type": "markdown",
   "metadata": {},
   "source": [
    "## Functions"
   ]
  },
  {
   "cell_type": "code",
   "execution_count": null,
   "metadata": {
    "hide_input": true
   },
   "outputs": [
    {
     "data": {
      "text/markdown": [
       "#### <a id=convert_nb></a>`convert_nb`\n",
       "> `convert_nb`(`fname`, `dest_path`=`'.'`)\n",
       "\n",
       "\n",
       "Converts a notebook `fname` to html file in `dest_path` <a href=\"https://github.com/fastai/fastai/blob/master/fastai/gen_doc/convert2html.py#L27\">[source]</a>"
      ],
      "text/plain": [
       "<IPython.core.display.Markdown object>"
      ]
     },
     "metadata": {},
     "output_type": "display_data"
    }
   ],
   "source": [
    "show_doc(convert_nb)"
   ]
  },
  {
   "cell_type": "code",
   "execution_count": null,
   "metadata": {
    "hide_input": true
   },
   "outputs": [
    {
     "data": {
      "text/markdown": [
       "#### <a id=convert_all></a>`convert_all`\n",
       "> `convert_all`(`folder`, `dest_path`=`'.'`)\n",
       "\n",
       "\n",
       "Converts all notebooks `folder` to html pages in `dest_path`. <a href=\"https://github.com/fastai/fastai/blob/master/fastai/gen_doc/convert2html.py#L31\">[source]</a>"
      ],
      "text/plain": [
       "<IPython.core.display.Markdown object>"
      ]
     },
     "metadata": {},
     "output_type": "display_data"
    }
   ],
   "source": [
    "show_doc(convert_all)"
   ]
  },
  {
   "cell_type": "markdown",
   "metadata": {},
   "source": [
    "Here's an example to convert all the docs in this folder:\n",
    "\n",
    "``` python\n",
    "convert_all('.', '../docs')\n",
    "```"
   ]
  },
  {
   "cell_type": "markdown",
   "metadata": {},
   "source": [
    "## Undocumented Methods - Methods moved below this line will intentionally be hidden"
   ]
  },
  {
   "cell_type": "markdown",
   "metadata": {},
   "source": [
    "## New Methods - Please document or move to the undocumented section"
   ]
  },
  {
   "cell_type": "code",
   "execution_count": null,
   "metadata": {
    "hide_input": true
   },
   "outputs": [],
   "source": [
    "show_doc(read_nb)"
   ]
  }
 ],
 "metadata": {
  "jekyll": {
   "summary": "Converting the documentation notebooks to HTML pages",
   "title": "gen_doc.convert2html"
  },
  "kernelspec": {
   "display_name": "Python 3",
   "language": "python",
   "name": "python3"
  }
 },
 "nbformat": 4,
 "nbformat_minor": 2
}
