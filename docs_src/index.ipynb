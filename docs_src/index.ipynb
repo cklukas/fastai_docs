{
 "cells": [
  {
   "cell_type": "markdown",
   "metadata": {},
   "source": [
    "# Welcome to fastai"
   ]
  },
  {
   "cell_type": "code",
   "execution_count": null,
   "metadata": {
    "hide_input": true
   },
   "outputs": [],
   "source": [
    "from fastai import *\n",
    "from fastai.vision import *\n",
    "from fastai.docs import *\n",
    "from fastai.gen_doc.nbdoc import *\n",
    "from fastai.core import *\n",
    "from fastai.basic_train import *"
   ]
  },
  {
   "cell_type": "markdown",
   "metadata": {},
   "source": [
    "The fastai library simplifies training fast and accurate neural nets using modern best practices. It's based on research in to deep learning best practices undertaken at [fast.ai](http://www.fast.ai), including \"out of the box\" support for [`vision`](/vision.html#vision), [`text`](/text.html#text), [`tabular`](/tabular.html#tabular), and [`collab`](/collab.html#collab) (collaborative filtering) models. If you're looking for the source code, head over to the [fastai repo](https://github.com/fastai/fastai) on GitHub. For brief examples, see the [examples](https://github.com/fastai/fastai/tree/master/examples) folder; detailed examples are provided in the full documentation (see the sidebar). For example, here's how to train an MNIST model using [resnet18](https://arxiv.org/abs/1512.03385) (from the [vision example](https://github.com/fastai/fastai/blob/master/examples/vision.ipynb)):"
   ]
  },
  {
   "cell_type": "code",
   "execution_count": null,
   "metadata": {},
   "outputs": [
    {
     "data": {
      "application/vnd.jupyter.widget-view+json": {
       "model_id": "3d965ab01e714398980d7cad6d18c8be",
       "version_major": 2,
       "version_minor": 0
      },
      "text/plain": [
       "VBox(children=(HBox(children=(IntProgress(value=0, max=1), HTML(value='0.00% [0/1 00:00<00:00]'))), HTML(value…"
      ]
     },
     "metadata": {},
     "output_type": "display_data"
    },
    {
     "name": "stdout",
     "output_type": "stream",
     "text": [
      "Total time: 00:09\n",
      "epoch  train loss  valid loss  accuracy\n",
      "0      0.089204    0.038701    0.986752  (00:09)\n",
      "\n"
     ]
    }
   ],
   "source": [
    "untar_data(MNIST_PATH)\n",
    "data = image_data_from_folder(MNIST_PATH)\n",
    "learn = ConvLearner(data, tvm.resnet18, metrics=accuracy)\n",
    "learn.fit(1)"
   ]
  },
  {
   "cell_type": "code",
   "execution_count": null,
   "metadata": {
    "hide_input": true
   },
   "outputs": [
    {
     "data": {
      "text/markdown": [
       "<div markdown=\"span\" class=\"alert alert-info\" role=\"alert\"><i class=\"fa fa-info-circle\"></i> <b>Note: </b>This documentation is all built from notebooks;\n",
       "that means that you can try any of the code you see in any notebook yourself!\n",
       "You'll find the notebooks in the <a href=\"https://github.com/fastai/fastai_docs/tree/master/docs_src\">docs_src</a> folder of the\n",
       "<a href=\"https://github.com/fastai/fastai_docs\">fastai_docs</a> repo. For instance,\n",
       "<a href=\"https://github.com/fastai/fastai_docs/blob/master/docs_src/index.ipynb\">here</a>\n",
       "is the notebook source of what you're reading now.</div>"
      ],
      "text/plain": [
       "<IPython.core.display.Markdown object>"
      ]
     },
     "metadata": {},
     "output_type": "display_data"
    }
   ],
   "source": [
    "jekyll_note(\"\"\"This documentation is all built from notebooks;\n",
    "that means that you can try any of the code you see in any notebook yourself!\n",
    "You'll find the notebooks in the <a href=\"https://github.com/fastai/fastai_docs/tree/master/docs_src\">docs_src</a> folder of the\n",
    "<a href=\"https://github.com/fastai/fastai_docs\">fastai_docs</a> repo. For instance,\n",
    "<a href=\"https://github.com/fastai/fastai_docs/blob/master/docs_src/index.ipynb\">here</a>\n",
    "is the notebook source of what you're reading now.\"\"\")"
   ]
  },
  {
   "cell_type": "markdown",
   "metadata": {},
   "source": [
    "## Installation"
   ]
  },
  {
   "cell_type": "markdown",
   "metadata": {},
   "source": [
    "To install fastai, we recommend `conda` (replace `cuda92` with your CUDA toolkit version):\n",
    "\n",
    "```\n",
    "conda install -c pytorch -c fastai fastai cuda92\n",
    "```\n",
    "\n",
    "For alternative installations, including pip and CPU-only options, see the [fastai readme](https://github.com/fastai/fastai/blob/master/README.md)."
   ]
  },
  {
   "cell_type": "markdown",
   "metadata": {},
   "source": [
    "## Reading the docs"
   ]
  },
  {
   "cell_type": "markdown",
   "metadata": {},
   "source": [
    "To get started quickly, click *Applications* on the sidebar, and then choose the application you're interested in. That will take you to a walk-through of training a model of that type. You can then either explore the various links from there, or dive more deeply into the various fastai modules.\n",
    "\n",
    "We've provided below a quick summary of the key modules in this library. For details on each one, use the sidebar to find the module you're interested in. Each module includes an overview, an example of how to use it, along with documentation for every class, function, and method. API documentation looks, for example, like this:\n",
    "\n",
    "### An example function"
   ]
  },
  {
   "cell_type": "code",
   "execution_count": null,
   "metadata": {
    "hide_input": true
   },
   "outputs": [
    {
     "data": {
      "text/markdown": [
       "#### <a id=rotate></a>`rotate`\n",
       "> `rotate`(`degrees`:[`uniform`](/vision.image.html#uniform)) -> [`Image`](/vision.image.html#Image) :: [`TfmAffine`](/vision.image.html#TfmAffine)\n",
       "\n",
       "\n",
       "Rotate image by `degrees`. <a href=\"https://github.com/fastai/fastai/blob/master/fastai/vision/transform.py#L22\">[source]</a>"
      ],
      "text/plain": [
       "<IPython.core.display.Markdown object>"
      ]
     },
     "metadata": {},
     "output_type": "display_data"
    }
   ],
   "source": [
    "show_doc(rotate)"
   ]
  },
  {
   "cell_type": "markdown",
   "metadata": {},
   "source": [
    "---\n",
    "\n",
    "Types for each parameter, and the return type, are displayed following standard Python [type hint syntax](https://www.python.org/dev/peps/pep-0484/). Sometimes for compound types we use [type variables](/fastai_typing.html). Types that are defined by fastai or Pytorch link directly to more information about that type; try clicking *Image* in the function above for an example. The docstring for the symbol is shown immediately after the signature, along with a link to the source code for the symbol in GitHub. After the basic signature and docstring you'll find examples and additional details (not shown in this example). As you'll see at the top of the page, all symbols documented like this also appear in the table of contents.\n",
    "\n",
    "For inherited classes and some types of decorated function, the base class or decorator type will also be shown at the end of the signature, delimited by `::`. For [`vision.transform`](/vision.transform.html#vision.transform), the random number generator used for data augmentation is shown instead of the type, for randomly generated parameters.\n",
    "\n",
    "In a notebook you can also use <code>doc(...)</code> to show the above information, along with a link to the full docs for the class or function. For instance, if you want to know what `learn.fit` does in the example code above, just type `doc(learn.fit)` and this information will appear in a popup panel at the bottom of your window."
   ]
  },
  {
   "cell_type": "markdown",
   "metadata": {},
   "source": [
    "## Module structure"
   ]
  },
  {
   "cell_type": "markdown",
   "metadata": {},
   "source": [
    "### Imports"
   ]
  },
  {
   "cell_type": "markdown",
   "metadata": {},
   "source": [
    "fastai is designed to support both interactive computing as well as traditional software development. For interactive computing, where convenience and speed of experimentation is a priority, data scientists often prefer to grab all the symbols they need, with `import *`. Therefore, fastai is designed to support this approach, without compromising on maintainability and understanding.\n",
    "\n",
    "In order to do so, the module dependencies are carefully managed (see next section), with each exporting a carefully chosen set of symbols when using `import *`. In general, for interactive computing, you'll want to import from both `fastai`, and from one of the *applications*, such as:"
   ]
  },
  {
   "cell_type": "code",
   "execution_count": null,
   "metadata": {},
   "outputs": [],
   "source": [
    "from fastai import *\n",
    "from fastai.data import *"
   ]
  },
  {
   "cell_type": "markdown",
   "metadata": {},
   "source": [
    "That will give you all the standard external modules you'll need, in their customary namespaces (e.g. `pandas as pd`, `numpy as np`, `matplotlib.pyplot as plt`), plus the core fastai libraries. In addition, the main classes and functions for your application ([`fastai.vision`](/vision.html#vision), in this case), e.g. creating a [`DataBunch`](/data.html#DataBunch) from an image folder and training a convolutional neural network (with [`ConvLearner`](/vision.learner.html#ConvLearner)), are also imported.\n",
    "\n",
    "If you wish to see where a symbol is imported from, either just type the symbol name (in a REPL such as Jupyter Notebook or IPython), or (in most editors) wave your mouse over the symbol to see the definition. For instance:"
   ]
  },
  {
   "cell_type": "code",
   "execution_count": null,
   "metadata": {},
   "outputs": [
    {
     "data": {
      "text/plain": [
       "fastai.vision.learner.ConvLearner"
      ]
     },
     "execution_count": null,
     "metadata": {},
     "output_type": "execute_result"
    }
   ],
   "source": [
    "ConvLearner"
   ]
  },
  {
   "cell_type": "markdown",
   "metadata": {},
   "source": [
    "### Dependencies"
   ]
  },
  {
   "cell_type": "markdown",
   "metadata": {},
   "source": [
    "At the base of everything are the two modules [`core`](/core.html#core) and [`torch_core`](/torch_core.html#torch_core) (we're not including the `fastai.` prefix when naming modules in these docs). They define the basic functions we use in the library; [`core`](/core.html#core) only relies on general modules, whereas [`torch_core`](/torch_core.html#torch_core) requires pytorch. Most type-hinting shortcuts are defined there too (at least the ones that don't depend on fastai classes defined later). Nearly all modules below import [`torch_core`](/torch_core.html#torch_core).\n",
    "\n",
    "Then, there are three modules directly on top of [`torch_core`](/torch_core.html#torch_core): \n",
    "- [`data`](/data.html#data), which contains the class that will take a [`Dataset`](https://pytorch.org/docs/stable/data.html#torch.utils.data.Dataset) or pytorch [`DataLoader`](https://pytorch.org/docs/stable/data.html#torch.utils.data.DataLoader) to wrap it in a [`DeviceDataLoader`](/data.html#DeviceDataLoader) (a class that sits on top of a [`DataLoader`](https://pytorch.org/docs/stable/data.html#torch.utils.data.DataLoader) and is in charge of putting the data on the right device as well as applying transforms such as normalization) and regroup then in a [`DataBunch`](/data.html#DataBunch).\n",
    "- [`layers`](/layers.html#layers), which contains basic functions to define custom layers or groups of layers\n",
    "- [`metrics`](/metrics.html#metrics), which contains all the metrics\n",
    "\n",
    "From [`layers`](/layers.html#layers), we have all the modules in the models folder that are defined. Then from [`data`](/data.html#data) we can split on one of the four main *applications*, which each has their own module: [`vision`](/vision.html#vision), [`text`](/text.html#text), [`collab`](/collab.html#collab), or [`tabular`](/tabular.html#tabular). Each of those submodules is built in the same way with:\n",
    "- a submodule named [`transform`](/text.transform.html#text.transform) that handles the transformations of our data (data augmentation for computer vision, numericalizing and tokenizing for text, and preprocessing for tabular)\n",
    "- a submodule named [`data`](/data.html#data) that contains the class that will create datasets and the helper functions to create [`DataBunch`](/data.html#DataBunch) objects.\n",
    "\n",
    "This takes care of building your model and handling the data. We regroup those in a [`Learner`](/basic_train.html#Learner) object to take care of training. More specifically:\n",
    "- [`callback`](/callback.html#callback) (depends on [`data`](/data.html#data)) defines the basis of callbacks and the [`CallbackHandler`](/callback.html#CallbackHandler). Those are functions that will be called every step of the way of the training loop and can allow us to customize what is happening there;\n",
    "- [`basic_train`](/basic_train.html#basic_train) (depends on [`callback`](/callback.html#callback)) defines [`Learner`](/basic_train.html#Learner) and [`Recorder`](/basic_train.html#Recorder) (which is a callback that records training stats) and has the training loop;\n",
    "- [`callbacks`](/callbacks.html#callbacks) (depends on [`basic_train`](/basic_train.html#basic_train)) is a submodule defining various callbacks, such as for mixed precision training or 1cycle annealing;\n",
    "- `learn` (depends on [`callbacks`](/callbacks.html#callbacks)) defines helper functions to invoke the callbacks more easily.\n",
    "\n",
    "The module [`tta`](/tta.html#tta) (for Test Time Augmentation) depends on [`basic_train`](/basic_train.html#basic_train), the module [`collab`](/collab.html#collab) (for collaborative filtering) depends on [`basic_train`](/basic_train.html#basic_train) and [`layers`](/layers.html#layers), so does the module [`vision.learner`](/vision.learner.html#vision.learner) (for our models with a skeleton trained on imagenet and a custom head for classification). The module [`text.learner`](/text.learner.html#text.learner) (to automatically get learner objects for NLP) depends on [`callbacks`](/callbacks.html#callbacks) (specifically the [`rnn`](/callbacks.rnn.html#callbacks.rnn) callback) and [`models`](/text.models.html#text.models) (specifically the rnn models).\n",
    "\n",
    "Here is a graph of the key module dependencies:"
   ]
  },
  {
   "cell_type": "markdown",
   "metadata": {},
   "source": [
    "![Modules overview](imgs/module_overview.png)"
   ]
  }
 ],
 "metadata": {
  "jekyll": {
   "keywords": "fastai",
   "toc": "false"
  },
  "kernelspec": {
   "display_name": "Python 3",
   "language": "python",
   "name": "python3"
  }
 },
 "nbformat": 4,
 "nbformat_minor": 2
}
